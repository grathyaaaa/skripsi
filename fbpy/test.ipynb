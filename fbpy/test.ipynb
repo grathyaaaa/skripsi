{
 "cells": [
  {
   "cell_type": "code",
   "execution_count": 1,
   "metadata": {},
   "outputs": [],
   "source": [
    "import firebase_admin\n",
    "from firebase_admin import credentials\n",
    "from firebase_admin import db"
   ]
  },
  {
   "cell_type": "code",
   "execution_count": 2,
   "metadata": {},
   "outputs": [],
   "source": [
    "# Fetch the service account key JSON file contents\n",
    "cred = credentials.Certificate('C:/Users/Grathya Sri Mulyani/Downloads/stroke-25f59-firebase-adminsdk-e443k-7b8a8709c7.json')"
   ]
  },
  {
   "cell_type": "code",
   "execution_count": 3,
   "metadata": {},
   "outputs": [
    {
     "output_type": "execute_result",
     "data": {
      "text/plain": "<firebase_admin.App at 0x21c88f35a48>"
     },
     "metadata": {},
     "execution_count": 3
    }
   ],
   "source": [
    "# Initialize the app with a service account, granting admin privileges\n",
    "firebase_admin.initialize_app(cred, {\n",
    "    'databaseURL': 'https://stroke-25f59.firebaseio.com/'\n",
    "})"
   ]
  },
  {
   "cell_type": "code",
   "execution_count": 4,
   "metadata": {},
   "outputs": [
    {
     "output_type": "stream",
     "name": "stdout",
     "text": "{'2020-5-4-1588535658767': {'age': '69', 'dm': False, 'gender': False, 'heartDisease': False, 'hypertension': False, 'name': 'ghh', 'smoking': False}, '2020-5-4-1588535679399': {'age': '66', 'dm': False, 'gender': False, 'heartDisease': False, 'hypertension': False, 'name': 'hhhh', 'smoking': False}, '2020-6-17-1592329752860': {'age': '60', 'dm': False, 'gender': False, 'heartDisease': False, 'hypertension': False, 'name': 'bude', 'smoking': False}}\n"
    }
   ],
   "source": [
    "# As an admin, the app has access to read and write all data, regradless of Security Rules\n",
    "ref = db.reference('/riskFactors')\n",
    "print(ref.get())"
   ]
  },
  {
   "cell_type": "code",
   "execution_count": null,
   "metadata": {},
   "outputs": [],
   "source": []
  }
 ],
 "metadata": {
  "language_info": {
   "codemirror_mode": {
    "name": "ipython",
    "version": 3
   },
   "file_extension": ".py",
   "mimetype": "text/x-python",
   "name": "python",
   "nbconvert_exporter": "python",
   "pygments_lexer": "ipython3",
   "version": "3.7.4-final"
  },
  "orig_nbformat": 2,
  "kernelspec": {
   "name": "python37464bit60922775196c43999f4b639c70c9ab8c",
   "display_name": "Python 3.7.4 64-bit"
  }
 },
 "nbformat": 4,
 "nbformat_minor": 2
}